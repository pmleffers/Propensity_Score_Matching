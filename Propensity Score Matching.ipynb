{
 "cells": [
  {
   "cell_type": "code",
   "execution_count": null,
   "metadata": {},
   "outputs": [],
   "source": [
    "#https://nbviewer.jupyter.org/github/kellieotto/StatMoments/blob/master/PSM.ipynb\n",
    "#http://users.nber.org/~rdehejia/nswdata2.html\n",
    "#https://www.umanitoba.ca/faculties/health_sciences/medicine/units/chs/departmental_units/mchp/protocol/media/propensity_score_matching.pdf"
   ]
  },
  {
   "cell_type": "code",
   "execution_count": 5,
   "metadata": {},
   "outputs": [],
   "source": [
    "%matplotlib inline\n",
    "import math\n",
    "import numpy as np\n",
    "import scipy\n",
    "from scipy.stats import binom, hypergeom\n",
    "import pandas as pd\n",
    "import matplotlib.pyplot as plt\n",
    "from sklearn.linear_model import LogisticRegression"
   ]
  },
  {
   "cell_type": "markdown",
   "metadata": {},
   "source": [
    "**Goal:** find the average treatment effect in the treatment group (ATT) on RE78.\n",
    "\n",
    "**Import the data:** controls and treated from Lalonde/Dehejia papers. Here's what the site says about the data:\n",
    "\n",
    "The variables from left to right are: treatment indicator (1 if treated, 0 if not treated), age, education, Black (1 if black, 0 otherwise), Hispanic (1 if Hispanic, 0 otherwise), married (1 if married, 0 otherwise), nodegree (1 if no degree, 0 otherwise), RE74 (earnings in 1974), RE75 (earnings in 1975), and RE78 (earnings in 1978).\n",
    "\n",
    "http://users.nber.org/%7Erdehejia/nswdata2.html"
   ]
  },
  {
   "cell_type": "code",
   "execution_count": 294,
   "metadata": {},
   "outputs": [
    {
     "data": {
      "text/html": [
       "<div>\n",
       "<style scoped>\n",
       "    .dataframe tbody tr th:only-of-type {\n",
       "        vertical-align: middle;\n",
       "    }\n",
       "\n",
       "    .dataframe tbody tr th {\n",
       "        vertical-align: top;\n",
       "    }\n",
       "\n",
       "    .dataframe thead th {\n",
       "        text-align: right;\n",
       "    }\n",
       "</style>\n",
       "<table border=\"1\" class=\"dataframe\">\n",
       "  <thead>\n",
       "    <tr style=\"text-align: right;\">\n",
       "      <th></th>\n",
       "      <th>Treated</th>\n",
       "      <th>Age</th>\n",
       "      <th>Education</th>\n",
       "      <th>Black</th>\n",
       "      <th>Hispanic</th>\n",
       "      <th>Married</th>\n",
       "      <th>Nodegree</th>\n",
       "      <th>RE74</th>\n",
       "      <th>RE75</th>\n",
       "      <th>RE78</th>\n",
       "    </tr>\n",
       "  </thead>\n",
       "  <tbody>\n",
       "    <tr>\n",
       "      <th>0</th>\n",
       "      <td>1.0</td>\n",
       "      <td>37.0</td>\n",
       "      <td>11.0</td>\n",
       "      <td>1.0</td>\n",
       "      <td>0.0</td>\n",
       "      <td>1.0</td>\n",
       "      <td>1.0</td>\n",
       "      <td>0.000</td>\n",
       "      <td>0.00</td>\n",
       "      <td>9930.0460</td>\n",
       "    </tr>\n",
       "    <tr>\n",
       "      <th>1</th>\n",
       "      <td>1.0</td>\n",
       "      <td>22.0</td>\n",
       "      <td>9.0</td>\n",
       "      <td>0.0</td>\n",
       "      <td>1.0</td>\n",
       "      <td>0.0</td>\n",
       "      <td>1.0</td>\n",
       "      <td>0.000</td>\n",
       "      <td>0.00</td>\n",
       "      <td>3595.8940</td>\n",
       "    </tr>\n",
       "    <tr>\n",
       "      <th>2</th>\n",
       "      <td>1.0</td>\n",
       "      <td>30.0</td>\n",
       "      <td>12.0</td>\n",
       "      <td>1.0</td>\n",
       "      <td>0.0</td>\n",
       "      <td>0.0</td>\n",
       "      <td>0.0</td>\n",
       "      <td>0.000</td>\n",
       "      <td>0.00</td>\n",
       "      <td>24909.4500</td>\n",
       "    </tr>\n",
       "    <tr>\n",
       "      <th>3</th>\n",
       "      <td>1.0</td>\n",
       "      <td>27.0</td>\n",
       "      <td>11.0</td>\n",
       "      <td>1.0</td>\n",
       "      <td>0.0</td>\n",
       "      <td>0.0</td>\n",
       "      <td>1.0</td>\n",
       "      <td>0.000</td>\n",
       "      <td>0.00</td>\n",
       "      <td>7506.1460</td>\n",
       "    </tr>\n",
       "    <tr>\n",
       "      <th>4</th>\n",
       "      <td>1.0</td>\n",
       "      <td>33.0</td>\n",
       "      <td>8.0</td>\n",
       "      <td>1.0</td>\n",
       "      <td>0.0</td>\n",
       "      <td>0.0</td>\n",
       "      <td>1.0</td>\n",
       "      <td>0.000</td>\n",
       "      <td>0.00</td>\n",
       "      <td>289.7899</td>\n",
       "    </tr>\n",
       "    <tr>\n",
       "      <th>...</th>\n",
       "      <td>...</td>\n",
       "      <td>...</td>\n",
       "      <td>...</td>\n",
       "      <td>...</td>\n",
       "      <td>...</td>\n",
       "      <td>...</td>\n",
       "      <td>...</td>\n",
       "      <td>...</td>\n",
       "      <td>...</td>\n",
       "      <td>...</td>\n",
       "    </tr>\n",
       "    <tr>\n",
       "      <th>255</th>\n",
       "      <td>0.0</td>\n",
       "      <td>21.0</td>\n",
       "      <td>9.0</td>\n",
       "      <td>1.0</td>\n",
       "      <td>0.0</td>\n",
       "      <td>0.0</td>\n",
       "      <td>1.0</td>\n",
       "      <td>31886.430</td>\n",
       "      <td>12357.22</td>\n",
       "      <td>0.0000</td>\n",
       "    </tr>\n",
       "    <tr>\n",
       "      <th>256</th>\n",
       "      <td>0.0</td>\n",
       "      <td>28.0</td>\n",
       "      <td>11.0</td>\n",
       "      <td>1.0</td>\n",
       "      <td>0.0</td>\n",
       "      <td>0.0</td>\n",
       "      <td>1.0</td>\n",
       "      <td>17491.450</td>\n",
       "      <td>13371.25</td>\n",
       "      <td>0.0000</td>\n",
       "    </tr>\n",
       "    <tr>\n",
       "      <th>257</th>\n",
       "      <td>0.0</td>\n",
       "      <td>29.0</td>\n",
       "      <td>9.0</td>\n",
       "      <td>0.0</td>\n",
       "      <td>1.0</td>\n",
       "      <td>0.0</td>\n",
       "      <td>1.0</td>\n",
       "      <td>9594.308</td>\n",
       "      <td>16341.16</td>\n",
       "      <td>16900.3000</td>\n",
       "    </tr>\n",
       "    <tr>\n",
       "      <th>258</th>\n",
       "      <td>0.0</td>\n",
       "      <td>25.0</td>\n",
       "      <td>9.0</td>\n",
       "      <td>1.0</td>\n",
       "      <td>0.0</td>\n",
       "      <td>1.0</td>\n",
       "      <td>1.0</td>\n",
       "      <td>24731.620</td>\n",
       "      <td>16946.63</td>\n",
       "      <td>7343.9640</td>\n",
       "    </tr>\n",
       "    <tr>\n",
       "      <th>259</th>\n",
       "      <td>0.0</td>\n",
       "      <td>22.0</td>\n",
       "      <td>10.0</td>\n",
       "      <td>0.0</td>\n",
       "      <td>0.0</td>\n",
       "      <td>1.0</td>\n",
       "      <td>1.0</td>\n",
       "      <td>25720.920</td>\n",
       "      <td>23031.98</td>\n",
       "      <td>5448.8010</td>\n",
       "    </tr>\n",
       "  </tbody>\n",
       "</table>\n",
       "<p>445 rows × 10 columns</p>\n",
       "</div>"
      ],
      "text/plain": [
       "     Treated   Age  Education  Black  Hispanic  Married  Nodegree       RE74  \\\n",
       "0        1.0  37.0       11.0    1.0       0.0      1.0       1.0      0.000   \n",
       "1        1.0  22.0        9.0    0.0       1.0      0.0       1.0      0.000   \n",
       "2        1.0  30.0       12.0    1.0       0.0      0.0       0.0      0.000   \n",
       "3        1.0  27.0       11.0    1.0       0.0      0.0       1.0      0.000   \n",
       "4        1.0  33.0        8.0    1.0       0.0      0.0       1.0      0.000   \n",
       "..       ...   ...        ...    ...       ...      ...       ...        ...   \n",
       "255      0.0  21.0        9.0    1.0       0.0      0.0       1.0  31886.430   \n",
       "256      0.0  28.0       11.0    1.0       0.0      0.0       1.0  17491.450   \n",
       "257      0.0  29.0        9.0    0.0       1.0      0.0       1.0   9594.308   \n",
       "258      0.0  25.0        9.0    1.0       0.0      1.0       1.0  24731.620   \n",
       "259      0.0  22.0       10.0    0.0       0.0      1.0       1.0  25720.920   \n",
       "\n",
       "         RE75        RE78  \n",
       "0        0.00   9930.0460  \n",
       "1        0.00   3595.8940  \n",
       "2        0.00  24909.4500  \n",
       "3        0.00   7506.1460  \n",
       "4        0.00    289.7899  \n",
       "..        ...         ...  \n",
       "255  12357.22      0.0000  \n",
       "256  13371.25      0.0000  \n",
       "257  16341.16  16900.3000  \n",
       "258  16946.63   7343.9640  \n",
       "259  23031.98   5448.8010  \n",
       "\n",
       "[445 rows x 10 columns]"
      ]
     },
     "execution_count": 294,
     "metadata": {},
     "output_type": "execute_result"
    }
   ],
   "source": [
    "names = ['Treated', 'Age', 'Education', 'Black', 'Hispanic', 'Married',\n",
    "         'Nodegree', 'RE74', 'RE75', 'RE78']\n",
    "treated = pd.read_table('nswre74_treated.txt', sep = '\\s+',\n",
    "                        header = None, names = names)\n",
    "control = pd.read_table('nswre74_control.txt', sep='\\s+', \n",
    "                        header = None, names = names)\n",
    "data = pd.concat([treated, control])\n",
    "\n",
    "#data['Treated']=data['Treated'].map(int)\n",
    "#data['Age']=data['Age'].map(int)\n",
    "#data['Education']=data['Education'].map(int)\n",
    "#data['Black']=data['Black'].map(int)\n",
    "#data['Hispanic']=data['Hispanic'].map(int)\n",
    "#data['Married']=data['Married'].map(int)\n",
    "#data['Nodegree']=data['Nodegree'].map(int)\n",
    "\n",
    "data"
   ]
  },
  {
   "cell_type": "markdown",
   "metadata": {},
   "source": [
    "**Compute propensity scores** to start. Then we need to separate the treated and controls again (preserve original indexing) in order to match them.\n",
    "\n",
    "Note, this section might need some fine-tuning to make it match Dehejia and Wahba (see their appendix for how they computed propensity scores)"
   ]
  },
  {
   "cell_type": "code",
   "execution_count": 75,
   "metadata": {},
   "outputs": [
    {
     "name": "stdout",
     "output_type": "stream",
     "text": [
      "[0.42881372 0.31574783 0.55398467 0.37606796 0.39269544]\n"
     ]
    }
   ],
   "source": [
    "propensity = LogisticRegression()\n",
    "propensity = propensity.fit(data[names[1:-1]], data.Treated)\n",
    "pscore = propensity.predict_proba(data[names[1:-1]])[:,1] # The predicted propensities by the model\n",
    "print(pscore[:5])\n",
    "\n",
    "data['Propensity'] = pscore\n",
    "#pscore = pd.Series(data = pscore, index = data.index)"
   ]
  },
  {
   "cell_type": "markdown",
   "metadata": {},
   "source": [
    "Implement one-to-one matching, caliper without replacement. Variants of the method are examined in the following paper. This is something to explore further. Austin, P. C. (2014), A comparison of 12 algorithms for matching on the propensity score. Statist. Med., 33: 1057–1069. doi: 10.1002/sim.6004"
   ]
  },
  {
   "cell_type": "code",
   "execution_count": 169,
   "metadata": {},
   "outputs": [],
   "source": [
    "def Match(groups, propensity, caliper = 0.05):\n",
    "    ''' \n",
    "    Inputs:\n",
    "    groups = Treatment assignments.  Must be 2 groups\n",
    "    propensity = Propensity scores for each observation.\n",
    "    Propensity and groups should be in the same order (matching indices)\n",
    "    caliper = Maximum difference in matched propensity scores. For now, this is a caliper on the raw\n",
    "            propensity; Austin reccommends using a caliper on the logit propensity.\n",
    "    \n",
    "    Output:\n",
    "    A series containing the individuals in the control group matched to the treatment group.\n",
    "    Note that with caliper matching, not every treated individual may have a match.\n",
    "    '''\n",
    "\n",
    "    # Check inputs\n",
    "    if any(propensity <=0) or any(propensity >=1):\n",
    "        raise ValueError('Propensity scores must be between 0 and 1')\n",
    "    elif not(0<caliper<1):\n",
    "        raise ValueError('Caliper must be between 0 and 1')\n",
    "    elif len(groups)!= len(propensity):\n",
    "        raise ValueError('groups and propensity scores must be same dimension')\n",
    "    elif len(groups.unique()) != 2:\n",
    "        raise ValueError('wrong number of groups')\n",
    "        \n",
    "        \n",
    "    # Code groups as 0 and 1\n",
    "    groups = groups == groups.unique()[0]\n",
    "    N = len(groups)\n",
    "    N1 = groups.sum()\n",
    "    N2 = N-N1\n",
    "    g1, g2 = propensity[comparison == 1], (propensity[comparison == 0])\n",
    "    # Check if treatment groups got flipped - treatment (coded 1) should be the smaller\n",
    "    if N1 > N2:\n",
    "        N1, N2, g1, g2 = N2, N1, g2, g1 \n",
    "        \n",
    "        \n",
    "    # Randomly permute the smaller group to get order for matching\n",
    "    morder = np.random.permutation(N1)\n",
    "    matches = pd.Series(np.empty(N1))\n",
    "    matches[:] = np.nan\n",
    "    \n",
    "    for m in morder:\n",
    "        dist = abs(g1[m] - g2)\n",
    "        if dist.min() <= caliper:\n",
    "            matches[m] = dist.argmin()\n",
    "            if matches[m] in g2:\n",
    "                g2 = g2.drop(int(matches[m]))\n",
    "    return (matches)"
   ]
  },
  {
   "cell_type": "code",
   "execution_count": 173,
   "metadata": {},
   "outputs": [
    {
     "data": {
      "text/plain": [
       "0      2.0\n",
       "1    113.0\n",
       "2     68.0\n",
       "3     91.0\n",
       "4     46.0\n",
       "dtype: float64"
      ]
     },
     "execution_count": 173,
     "metadata": {},
     "output_type": "execute_result"
    }
   ],
   "source": [
    "stuff = Match(data['Treated'], data['Propensity'])\n",
    "g1, g2 = data.Propensity[data.Treated==1], data.Propensity[data.Treated==0]\n",
    "# test ValueError\n",
    "#badtreat = data.Treated + data.Hispanic\n",
    "#Match(badtreat, pscore)\n",
    "stuff[:5]\n"
   ]
  },
  {
   "cell_type": "markdown",
   "metadata": {},
   "source": [
    "**Here's the result:** if we put the propensity scores of the treatment and matched controls side-by-side, we see that they're matched pretty well."
   ]
  },
  {
   "cell_type": "code",
   "execution_count": 174,
   "metadata": {},
   "outputs": [
    {
     "data": {
      "text/plain": [
       "[(0.4288137181417487, 0.3614632308163332),\n",
       " (0.31574783218373165, 0.3721279905566081),\n",
       " (0.553984672490622, 0.37606796091907096),\n",
       " (0.37606796091907096, 0.5900633417259213),\n",
       " (0.39269543560833275, 0.3644939775088171),\n",
       " (0.3614632308163332, 0.31272293608914403),\n",
       " (0.5328379271007886, 0.3647093996215357),\n",
       " (0.39045882732785586, 0.5206959104031487),\n",
       " (0.5307319720631061, 0.384768772936429),\n",
       " (0.5930474759140238, 0.4051352845998035),\n",
       " (0.35307462732320666, 0.5335939702483684),\n",
       " (0.5270026739562245, 0.5272344593830354),\n",
       " (0.3500865252891679, 0.3703707509526879),\n",
       " (0.3990565063298883, 0.367319382976401),\n",
       " (0.347110143153397, 0.34588275910023886),\n",
       " (0.3532870522902832, 0.4051352845998035),\n",
       " (0.545171751789351, 0.3789295882155393),\n",
       " (0.3644939775088171, 0.3644939775088171),\n",
       " (0.5838404234731203, 0.3532870522902832),\n",
       " (0.5419197687864946, 0.42528530892196714),\n",
       " (0.3647093996215357, 0.3697204549444593),\n",
       " (0.5934037332598169, 0.5900633417259213),\n",
       " (0.413692729229419, 0.572052985633004),\n",
       " (0.3675355092113285, 0.39604812048011667),\n",
       " (0.3505097855200918, 0.40775625018518447),\n",
       " (0.4051352845998035, 0.3505097855200918),\n",
       " (0.3703707509526879, 0.3200206372839673),\n",
       " (0.32925309438823014, 0.33271414355303436),\n",
       " (0.34774261183692873, 0.30551687946677525),\n",
       " (0.3675355092113285, 0.30551687946677525),\n",
       " (0.34774261183692873, 0.39023753845126186),\n",
       " (0.4360883401364196, 0.3502981259448001),\n",
       " (0.3934524155829895, 0.3789295882155393),\n",
       " (0.5237342715427151, 0.367319382976401),\n",
       " (0.5388952810676761, 0.37015393324050344),\n",
       " (0.5901955216189688, 0.5630869042833745),\n",
       " (0.36907063144083074, 0.5659863033937726),\n",
       " (0.5570861522473021, 0.3433686033869493),\n",
       " (0.4551496923018491, 0.3721279905566081),\n",
       " (0.367319382976401, 0.5659863033937726),\n",
       " (0.5267708768892435, 0.40775625018518447),\n",
       " (0.35891110019060884, 0.3933609216507593),\n",
       " (0.3473209062160671, 0.40980036755377586),\n",
       " (0.3262447579153489, 0.5419197687864946),\n",
       " (0.35628749617987343, 0.41966342059510336),\n",
       " (0.3934524155829895, 0.3934524155829895),\n",
       " (0.3473209062160671, 0.3666713245058584),\n",
       " (0.34753172913247277, 0.4051352845998035),\n",
       " (0.36907063144083074, 0.3754136260957218),\n",
       " (0.5328379271007886, 0.36124863580560684),\n",
       " (0.37827329300565143, 0.367319382976401),\n",
       " (0.41101816776890654, 0.35908523233016404),\n",
       " (0.35072150394810936, 0.38743476233115964),\n",
       " (0.5388952810676761, 0.3236933333012473),\n",
       " (0.4080734334643906, 0.4257399288388618),\n",
       " (0.34774261183692873, 0.393230524630477),\n",
       " (0.404594797955304, 0.36124863580560684),\n",
       " (0.4391797041022533, 0.34795355426366104),\n",
       " (0.6136254005553612, 0.3029392344189757),\n",
       " (0.36779195359322986, 0.3721279905566081),\n",
       " (0.3473209062160671, 0.3729974615899462),\n",
       " (0.3811414503338519, 0.3817996658752104),\n",
       " (0.3989645664004084, 0.5569915494304947),\n",
       " (0.37606796091907096, 0.40188819763589445),\n",
       " (0.3802645087397989, 0.37471919502689005),\n",
       " (0.37849200867171107, 0.4198899053807919),\n",
       " (0.37606796091907096, 0.367319382976401),\n",
       " (0.36976080933445815, 0.3703707509526879),\n",
       " (0.4514405704370836, 0.5320681703519794),\n",
       " (0.5512038817881421, 0.37584979892032205),\n",
       " (0.3756316872869304, 0.4104752483993906),\n",
       " (0.6017001022106439, 0.6044842398881638),\n",
       " (0.3496635010041761, 0.5509738395601961),\n",
       " (0.5388952810676761, 0.3105096625670335),\n",
       " (0.5486501650408759, 0.3644939775088171),\n",
       " (0.37632681634442916, 0.4195700477427963),\n",
       " (0.5298055030210264, 0.3989645664004084),\n",
       " (0.35865733512198317, 0.5481895866834422),\n",
       " (0.4138762811580527, 0.553984672490622),\n",
       " (0.3618925866552537, 0.40775625018518447),\n",
       " (0.5388952810676761, 0.3897950962819217),\n",
       " (0.5176560174111906, 0.34392480037602086),\n",
       " (0.584108407042902, 0.3502981259448001),\n",
       " (0.545171751789351, 0.3937724638486016),\n",
       " (0.3754136260957218, 0.3200206372839673),\n",
       " (0.40798082647016876, 0.3105096625670335),\n",
       " (0.31818291931751363, 0.3639030563113486),\n",
       " (0.3732149579505316, 0.3989645664004084),\n",
       " (0.533112489620657, 0.30551687946677525),\n",
       " (0.3697204549444593, 0.5659863033937726),\n",
       " (0.41101816776890654, 0.39918756427998314),\n",
       " (0.34774261183692873, 0.572052985633004),\n",
       " (0.3703707509526879, 0.37849200867171107),\n",
       " (0.5267708768892435, 0.40188819763589445),\n",
       " (0.4257399288388618, 0.5509738395601961),\n",
       " (0.5452146907644736, 0.3719107517788318),\n",
       " (0.3502981259448001, 0.3614632308163332),\n",
       " (0.5897456372603823, 0.3703707509526879),\n",
       " (0.37015393324050344, 0.3989645664004084),\n",
       " (0.3398898929237647, 0.35607426042871176),\n",
       " (0.367319382976401, 0.3593391305226783),\n",
       " (0.3729974615899462, 0.384768772936429),\n",
       " (0.3703707509526879, 0.5659863033937726),\n",
       " (0.35072150394810936, 0.3789295882155393),\n",
       " (0.3534995352254211, 0.36124863580560684),\n",
       " (0.4223116493043884, 0.3473209062160671),\n",
       " (0.545171751789351, 0.3732149579505316),\n",
       " (0.34753172913247277, 0.3644939775088171),\n",
       " (0.38467801764769444, 0.4569220644534306),\n",
       " (0.38291027260112687, 0.3934524155829895),\n",
       " (0.31858353725895017, 0.3433686033869493),\n",
       " (0.3010542298135884, 0.30028609844641074),\n",
       " (0.5192911421825557, 0.3324192503914364),\n",
       " (0.34812490315207223, 0.34453496171766435),\n",
       " (0.5488980697942561, 0.3644939775088171),\n",
       " (0.5126994764483451, 0.30810676273606413),\n",
       " (0.5353589670723591, 0.37584979892032205),\n",
       " (0.5290529866314184, 0.3989645664004084),\n",
       " (0.35827667904629573, 0.3647093996215357),\n",
       " (0.502197023896213, 0.3721279905566081),\n",
       " (0.5609136489689447, 0.3721239360788006),\n",
       " (0.36085460168011124, 0.393230524630477),\n",
       " (0.3634527810173981, 0.34774261183692873),\n",
       " (0.5238065095109468, 0.31554696560407336),\n",
       " (0.34539028064710864, 0.384768772936429),\n",
       " (0.4115583589074278, 0.3532870522902832),\n",
       " (0.504616152913506, 0.3549331957624596),\n",
       " (0.4000649456855004, 0.3754136260957218),\n",
       " (0.4335994269242715, 0.3296864059409661),\n",
       " (0.34925262406984414, 0.3729974615899462),\n",
       " (0.3529325522890421, 0.34588275910023886),\n",
       " (0.3961489759136034, 0.5206959104031487),\n",
       " (0.41533772858244095, 0.3473209062160671),\n",
       " (0.2778186830889419, 0.40775625018518447),\n",
       " (0.4077018381291523, 0.5206959104031487),\n",
       " (0.410126740634534, 0.3502981259448001),\n",
       " (0.4163663147368604, 0.36339685306706593),\n",
       " (0.36013380603292694, 0.34392480037602086),\n",
       " (0.5021861693543265, 0.3523744516316245),\n",
       " (0.4092187750478818, 0.3473209062160671),\n",
       " (0.33928045401603607, 0.3811414503338519),\n",
       " (0.4740811881966536, 0.35630791469776174),\n",
       " (0.3720360271687589, 0.3502981259448001),\n",
       " (0.44573368654001305, 0.3537516638476942),\n",
       " (0.5991599631966651, 0.3500865252891679),\n",
       " (0.3730500320511054, 0.40730721327109304),\n",
       " (0.38785339543037406, 0.37849200867171107),\n",
       " (0.39743566064600894, 0.3703707509526879),\n",
       " (0.4341364058729464, 0.3537516638476942),\n",
       " (0.3605812192588611, 0.3556479602008871),\n",
       " (0.4170860134312109, 0.3644939775088171),\n",
       " (0.4816792720030043, 0.3502981259448001),\n",
       " (0.37452802640295124, 0.3473209062160671),\n",
       " (0.532781409932779, 0.39918756427998314),\n",
       " (0.4862927707462363, 0.5374477186718877),\n",
       " (0.4980724086041613, 0.35072150394810936),\n",
       " (0.39365460125466833, 0.3502981259448001),\n",
       " (0.5294353366021126, 0.30551687946677525),\n",
       " (0.41725041309818045, 0.36406329619963274),\n",
       " (0.4012089487667011, 0.3697204549444593),\n",
       " (0.3983435326840662, 0.40188819763589445),\n",
       " (0.3845168438134264, 0.3719107517788318),\n",
       " (0.3689851718449871, 0.5659863033937726),\n",
       " (0.4416955057829442, 0.5280742596277821),\n",
       " (0.5530106669937705, 0.3644939775088171),\n",
       " (0.43086452756505267, 0.3639030563113486),\n",
       " (0.365785307178191, 0.35630791469776174),\n",
       " (0.3913458739094219, 0.3473209062160671),\n",
       " (0.45145779785366197, 0.3502981259448001),\n",
       " (0.39356125450596646, 0.3789295882155393),\n",
       " (0.4165319244265993, 0.4614133492298436),\n",
       " (0.5896742464647262, 0.35307462732320666),\n",
       " (0.3095671426867169, 0.40730721327109304),\n",
       " (0.4072197405081862, 0.3732149579505316),\n",
       " (0.30003058991428294, 0.3729974615899462),\n",
       " (0.460402358233456, 0.3473209062160671),\n",
       " (0.5982025833184278, 0.3534995352254211),\n",
       " (0.5028424979227497, 0.3644939775088171),\n",
       " (0.6075770427293667, 0.35072150394810936),\n",
       " (0.4534022939000868, 0.3498749836200408),\n",
       " (0.60180182618258, 0.3556479602008871),\n",
       " (0.48652965207577076, 0.3324035289995321),\n",
       " (0.5238340960116346, 0.30551687946677525),\n",
       " (0.5805822783428011, 0.34774261183692873),\n",
       " (0.6644171466761024, 0.302742910996812)]"
      ]
     },
     "execution_count": 174,
     "metadata": {},
     "output_type": "execute_result"
    }
   ],
   "source": [
    "list(zip(g1, g2[stuff]))"
   ]
  },
  {
   "cell_type": "markdown",
   "metadata": {},
   "source": [
    "__________"
   ]
  },
  {
   "cell_type": "code",
   "execution_count": 280,
   "metadata": {},
   "outputs": [],
   "source": [
    "from sklearn.preprocessing import StandardScaler\n",
    "from sklearn.neighbors import NearestNeighbors\n",
    "\n",
    "def get_matching_pairs(treated_df, non_treated_df, scaler=True):\n",
    "\n",
    "    treated_x = treated_df.values\n",
    "    non_treated_x = non_treated_df.values\n",
    "    if scaler == True:\n",
    "        scaler = StandardScaler()\n",
    "    if scaler:\n",
    "        scaler.fit(treated_x)\n",
    "        treated_x = scaler.transform(treated_x)\n",
    "        non_treated_x = scaler.transform(non_treated_x)\n",
    "\n",
    "    nbrs = NearestNeighbors(n_neighbors=1, algorithm='ball_tree').fit(non_treated_x)\n",
    "    distances, indices = nbrs.kneighbors(treated_x)\n",
    "    indices = indices.reshape(indices.shape[0])\n",
    "    matched = non_treated_df.loc[indices]\n",
    "    return matched"
   ]
  },
  {
   "cell_type": "code",
   "execution_count": null,
   "metadata": {},
   "outputs": [],
   "source": [
    "import pandas as pd\n",
    "import numpy as np\n",
    "\n",
    "import matplotlib.pyplot as plt\n",
    "\n",
    "treated_df = pd.DataFrame()\n",
    "np.random.seed(1)\n",
    "\n",
    "size_1 = 200\n",
    "size_2 = 1000\n",
    "treated_df['x'] = np.random.normal(0,1,size=size_1)\n",
    "treated_df['y'] = np.random.normal(50,20,size=size_1)\n",
    "treated_df['z'] = np.random.normal(0,100,size=size_1)\n",
    "\n",
    "non_treated_df = pd.DataFrame()\n",
    "# two different populations\n",
    "non_treated_df['x'] = list(np.random.normal(0,3,size=size_2)) + list(np.random.normal(-1,2,size=2*size_2))\n",
    "non_treated_df['y'] = list(np.random.normal(50,30,size=size_2)) + list(np.random.normal(-100,2,size=2*size_2))\n",
    "non_treated_df['z'] = list(np.random.normal(0,200,size=size_2)) + list(np.random.normal(13,200,size=2*size_2))"
   ]
  },
  {
   "cell_type": "code",
   "execution_count": 290,
   "metadata": {},
   "outputs": [
    {
     "data": {
      "text/plain": [
       "(-1, 2)"
      ]
     },
     "execution_count": 290,
     "metadata": {},
     "output_type": "execute_result"
    },
    {
     "data": {
      "image/png": "[encoded data removed]",
      "text/plain": [
       "<Figure size 432x432 with 1 Axes>"
      ]
     },
     "metadata": {
      "needs_background": "light"
     },
     "output_type": "display_data"
    }
   ],
   "source": [
    "matched_df = get_matching_pairs(treated_df, non_treated_df)\n",
    "\n",
    "fig, ax = plt.subplots(figsize=(6,6))\n",
    "plt.scatter(non_treated_df['x'], non_treated_df['y'], alpha=0.3, label='All non-treated')\n",
    "plt.scatter(treated_df['x'], treated_df['y'], label='Treated')\n",
    "plt.scatter(matched_df['x'], matched_df['y'], marker='x', label='Matched')\n",
    "plt.legend()\n",
    "plt.xlim(-1,2)"
   ]
  },
  {
   "cell_type": "markdown",
   "metadata": {},
   "source": [
    "_________"
   ]
  },
  {
   "cell_type": "code",
   "execution_count": 393,
   "metadata": {},
   "outputs": [],
   "source": [
    "def viz_pca(X,components=2):\n",
    "    pca = PCA(n_components=2, whiten=True).fit(X)\n",
    "    print('Orthogonal Vectors:',pca.components_,'\\n')\n",
    "    print('Variance Retained:',sum(pca.explained_variance_ratio_))\n",
    "    X_pca = pca.transform(X)\n",
    "    plt.scatter(X.iloc[:,0], X.iloc[:,1])  \n",
    "    return X_pca"
   ]
  },
  {
   "cell_type": "code",
   "execution_count": 394,
   "metadata": {},
   "outputs": [
    {
     "name": "stdout",
     "output_type": "stream",
     "text": [
      "Orthogonal Vectors: [[ 1.11693157e-05 -4.72034426e-07 -4.71498072e-06 -4.69182057e-08\n",
      "   7.01269718e-06  2.08964414e-07  8.55761510e-01  3.68204993e-01\n",
      "   3.63451950e-01]\n",
      " [ 1.44010800e-05  7.56368408e-06 -1.13967872e-05  7.20315044e-06\n",
      "  -6.55684273e-06 -1.96392689e-06 -3.36687284e-01 -1.37053565e-01\n",
      "   9.31588961e-01]] \n",
      "\n",
      "Variance Retained: 0.937109894656666\n"
     ]
    },
    {
     "data": {
      "image/png": "[encoded data removed]",
      "text/plain": [
       "<Figure size 432x288 with 1 Axes>"
      ]
     },
     "metadata": {
      "needs_background": "light"
     },
     "output_type": "display_data"
    }
   ],
   "source": [
    "pca_control=viz_pca(control.iloc[:,1:])"
   ]
  },
  {
   "cell_type": "code",
   "execution_count": 398,
   "metadata": {},
   "outputs": [],
   "source": [
    "labels_control=control.iloc[:,:1].values\n",
    "df_control=pd.DataFrame(np.hstack((pca_control,labels_control)))\n",
    "df_control.columns=['x','y','labels']"
   ]
  },
  {
   "cell_type": "code",
   "execution_count": 399,
   "metadata": {},
   "outputs": [
    {
     "name": "stdout",
     "output_type": "stream",
     "text": [
      "Orthogonal Vectors: [[ 8.01310521e-05  4.63327867e-05 -2.83566388e-06  8.32730089e-07\n",
      "   5.14613974e-06 -8.49189127e-06  9.27528868e-02  5.39628926e-02\n",
      "   9.94225779e-01]\n",
      " [ 7.05026461e-06  2.75145712e-05  1.64596299e-06  1.66760748e-06\n",
      "   1.61030523e-05 -9.30118802e-06  8.78990286e-01  4.64628663e-01\n",
      "  -1.07220711e-01]] \n",
      "\n",
      "Variance Retained: 0.9471325491089412\n"
     ]
    },
    {
     "data": {
      "image/png": "[encoded data removed]",
      "text/plain": [
       "<Figure size 432x288 with 1 Axes>"
      ]
     },
     "metadata": {
      "needs_background": "light"
     },
     "output_type": "display_data"
    }
   ],
   "source": [
    "labels_control=treated.iloc[:,:1].values\n",
    "pca_treated=viz_pca(treated.iloc[:,1:])\n",
    "df_treated=pd.DataFrame(np.hstack((pca_treated,labels_treated)))\n",
    "df_treated.columns=['x','y','labels']"
   ]
  },
  {
   "cell_type": "code",
   "execution_count": 400,
   "metadata": {},
   "outputs": [],
   "source": [
    "matched_df = get_matching_pairs(df_treated, df_control)"
   ]
  },
  {
   "cell_type": "code",
   "execution_count": 402,
   "metadata": {},
   "outputs": [
    {
     "data": {
      "text/plain": [
       "(-1, 2)"
      ]
     },
     "execution_count": 402,
     "metadata": {},
     "output_type": "execute_result"
    },
    {
     "data": {
      "image/png": "[encoded data removed]",
      "text/plain": [
       "<Figure size 720x720 with 1 Axes>"
      ]
     },
     "metadata": {
      "needs_background": "light"
     },
     "output_type": "display_data"
    }
   ],
   "source": [
    "fig, ax = plt.subplots(figsize=(10,10))\n",
    "plt.scatter(df_control['x'], df_control['labels'], alpha=0.3, label='All non-treated')\n",
    "plt.scatter(df_treated['x'], df_treated['labels'], label='Treated')\n",
    "plt.scatter(matched_df['x'], matched_df['labels'], marker='x', label='Matched')\n",
    "plt.legend()\n",
    "plt.xlim(-1,2)"
   ]
  },
  {
   "cell_type": "code",
   "execution_count": null,
   "metadata": {},
   "outputs": [],
   "source": []
  },
  {
   "cell_type": "code",
   "execution_count": null,
   "metadata": {},
   "outputs": [],
   "source": []
  }
 ],
 "metadata": {
  "kernelspec": {
   "display_name": "Python 3",
   "language": "python",
   "name": "python3"
  },
  "language_info": {
   "codemirror_mode": {
    "name": "ipython",
    "version": 3
   },
   "file_extension": ".py",
   "mimetype": "text/x-python",
   "name": "python",
   "nbconvert_exporter": "python",
   "pygments_lexer": "ipython3",
   "version": "3.7.7"
  }
 },
 "nbformat": 4,
 "nbformat_minor": 4
}
